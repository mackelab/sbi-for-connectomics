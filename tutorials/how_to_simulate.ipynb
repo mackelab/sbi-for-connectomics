{
 "cells": [
  {
   "cell_type": "markdown",
   "metadata": {},
   "source": [
    "# Simulating wiring rules in silico\n",
    "### Demonstration of how to simulate connectomes using the three rule variants used in the paper."
   ]
  },
  {
   "cell_type": "code",
   "execution_count": 31,
   "metadata": {},
   "outputs": [],
   "source": [
    "import numpy as np\n",
    "\n",
    "from consbi.simulators import DistanceRuleSimulator, RuleSimulator, poisson_glm, peters_rule_subcellular\n",
    "from consbi.simulators import default_rule\n",
    "from torch.distributions import MultivariateNormal\n",
    "\n",
    "from sbi.inference import prepare_for_sbi, simulate_for_sbi\n",
    "from sbi.utils import BoxUniform\n",
    "\n",
    "import torch\n",
    "import matplotlib.pyplot as plt\n",
    "plt.style.use('../paper/plotting_settings.mplstyle')\n",
    "%matplotlib inline"
   ]
  },
  {
   "cell_type": "code",
   "execution_count": 3,
   "metadata": {},
   "outputs": [],
   "source": [
    "# The prior will be Gaussian for most rules.\n",
    "prior = MultivariateNormal(torch.ones(3), torch.eye(3))"
   ]
  },
  {
   "cell_type": "markdown",
   "metadata": {},
   "source": [
    "## Poisson GLM\n",
    "\n",
    "The problem is reduced to just 10 neuron-pair-subvolume combinations withtout summary statistics, i.e., the simulator returns the raw synapse counts sampled from a Poisson distribution. Thus, it is fast and tractable. "
   ]
  },
  {
   "cell_type": "code",
   "execution_count": 4,
   "metadata": {},
   "outputs": [],
   "source": [
    "theta = prior.sample((10000,))\n",
    "x = poisson_glm(theta)"
   ]
  },
  {
   "cell_type": "code",
   "execution_count": 5,
   "metadata": {},
   "outputs": [
    {
     "data": {
      "image/png": "[encoded data removed]",
      "text/plain": [
       "<Figure size 432x288 with 1 Axes>"
      ]
     },
     "metadata": {
      "needs_background": "light"
     },
     "output_type": "display_data"
    }
   ],
   "source": [
    "plt.hist(x.numpy())\n",
    "plt.xlabel(\"Counts\")\n",
    "plt.legend([f\"neuron-pair-volume combi {ii}\" for ii in range(10)]);"
   ]
  },
  {
   "cell_type": "markdown",
   "metadata": {},
   "source": [
    "## Generalized DSO-rule\n",
    "\n",
    "The simulator is applied to the full barrel cortex column with more then 14 million neuron-pair-subvolume combinations, and summary statistics are calculated. The summary statistics are calculated to match the seven connection probabilities measured experimentally between VPM and barrel cortex. The mapping from 14 million generate synapse counts to the seven summary statistics is highly non-linear and implies that we have to use SBI to perform parameter inference."
   ]
  },
  {
   "cell_type": "code",
   "execution_count": 6,
   "metadata": {},
   "outputs": [
    {
     "name": "stdout",
     "output_type": "stream",
     "text": [
      "loading features ...\n",
      "Time elapsed: 175.51878547668457\n"
     ]
    },
    {
     "name": "stderr",
     "output_type": "stream",
     "text": [
      "/home/janfb/qode/sbi-for-connectomics/consbi/simulators/rule_simulator.py:653: RuntimeWarning: invalid value encountered in log\n",
      "  log_features = np.log(features)\n"
     ]
    },
    {
     "name": "stdout",
     "output_type": "stream",
     "text": [
      "constraint 0, num rows (with overlap) 2168393\n",
      "constraint 1, num rows (with overlap) 687074\n",
      "constraint 2, num rows (with overlap) 308345\n",
      "constraint 3, num rows (with overlap) 674175\n",
      "constraint 4, num rows (with overlap) 559727\n",
      "constraint 5, num rows (with overlap) 587659\n",
      "constraint 6, num rows (with overlap) 1096435\n"
     ]
    }
   ],
   "source": [
    "path_to_model = \"../data/structural_model\"\n",
    "# set number of neuron pairs sampled from the connectome to mimick experimental settings, e.g., 50\n",
    "num_subsampling_pairs = 50\n",
    "simulator = RuleSimulator(path_to_model, default_rule, verbose=True, num_subsampling_pairs=num_subsampling_pairs)"
   ]
  },
  {
   "cell_type": "code",
   "execution_count": 10,
   "metadata": {},
   "outputs": [
    {
     "data": {
      "application/vnd.jupyter.widget-view+json": {
       "model_id": "c9ab97c498754a68af543b2cdce9f24d",
       "version_major": 2,
       "version_minor": 0
      },
      "text/plain": [
       "HBox(children=(FloatProgress(value=0.0, description='Running 10000 simulations in 10000 batches.', max=10000.0…"
      ]
     },
     "metadata": {},
     "output_type": "display_data"
    },
    {
     "name": "stdout",
     "output_type": "stream",
     "text": [
      "\n",
      "\n"
     ]
    }
   ],
   "source": [
    "num_simulations = 10000\n",
    "# wrap the simulator to handle batches of parameters\n",
    "batch_simulator, prior = prepare_for_sbi(simulator, prior)\n",
    "\n",
    "theta, x = simulate_for_sbi(batch_simulator, prior, num_simulations=num_simulations, \n",
    "                            num_workers=20, \n",
    "                            simulation_batch_size=1)\n"
   ]
  },
  {
   "cell_type": "code",
   "execution_count": 62,
   "metadata": {},
   "outputs": [
    {
     "data": {
      "image/png": "[encoded data removed]",
      "text/plain": [
       "<Figure size 864x216 with 7 Axes>"
      ]
     },
     "metadata": {
      "needs_background": "light"
     },
     "output_type": "display_data"
    }
   ],
   "source": [
    "fig, ax = plt.subplots(1, 7, figsize=(12, 3), gridspec_kw=dict(wspace=0.15))\n",
    "xo = np.array([[0.4300, 0.4300, 0.4200, 0.6400, 0.1700, 0.4400, 0.0900]])\n",
    "\n",
    "colors = ['#377eb8', '#ff7f00', '#4daf4a',\n",
    "                  '#f781bf', '#a65628', '#984ea3',\n",
    "                  '#999999', '#e41a1c', '#dede00']\n",
    "data_labels = [r\"L4\", r\"L4SEP\", r\"L4SP\", r\"L4SS\", r\"L5IT\", r\"L5PT\", r\"L6\"]\n",
    "\n",
    "for ii in range(7):\n",
    "    plt.sca(ax[ii])\n",
    "    plt.hist(x[:, ii].numpy(), color=colors[6], bins=np.linspace(0, 1, 30), alpha=0.9)\n",
    "    plt.axvline(xo[0, ii], color=\"k\")\n",
    "    plt.xticks(np.linspace(0,1,2))\n",
    "    plt.xlim(0, 1)\n",
    "    ax[ii].spines[\"right\"].set_visible(False)\n",
    "    ax[ii].spines[\"top\"].set_visible(False)\n",
    "    ax[ii].spines[\"left\"].set_visible(False)\n",
    "    plt.yticks([])\n",
    "    plt.xlabel(data_labels[ii])\n",
    "plt.legend([\"measured\", \"simulated \\nfrom prior\"], bbox_to_anchor=(.11, .69), handlelength=1.0)\n",
    "plt.savefig(\"prior_predictive.png\", dpi=300, bbox_inches='tight')"
   ]
  },
  {
   "cell_type": "markdown",
   "metadata": {},
   "source": [
    "## Distance based rules\n",
    "\n",
    "The last example are wiring rules that form connections solely based on how close the neurons are to each other. \n",
    "\n",
    "There two variants:\n",
    " - one that acts at the neuron-level, simulating connections for every neuron pair\n",
    " - and one that acts at the subcellular level, simulating connections (synapses) for each neuron-pair in every subvolume.\n",
    "\n",
    "Both variants can be applied at different levels of resolution of the structural model, i.e., the side length of the subvolume (cube size).\n",
    "\n",
    "### Neuron level\n",
    "The neuron level rule has its own class for simulating corresponding connectomes: `DistanceRuleSimulator`. \n",
    "There are different sets of structural features: set 6 for the neuron level, and set 7 for the synapse level.\n",
    "\n",
    "Similarly, there are different rule functions and features that need to be passed to the simulator: \n",
    "    - number of `common_cubes` as features and the `cutoff_rule` as rule for the neuron level\n",
    "    - for the synapse level rule, there is a separate function `rule_subcellular`\n",
    "\n",
    "### Synapse level\n",
    "However, the synapse level rule, because it has ixjxk entries to simulate, can be very slow in this simple implementation without prelocation. Thus, for simulating the synapse level rule we return to the original simulator `RuleSimulator`."
   ]
  },
  {
   "cell_type": "markdown",
   "metadata": {},
   "source": [
    "### Neuron level"
   ]
  },
  {
   "cell_type": "code",
   "execution_count": 3,
   "metadata": {},
   "outputs": [
    {
     "name": "stdout",
     "output_type": "stream",
     "text": [
      "using feature set-6\n"
     ]
    },
    {
     "data": {
      "application/vnd.jupyter.widget-view+json": {
       "model_id": "a26cdbd88f2146e7b6ee63c11e650092",
       "version_major": 2,
       "version_minor": 0
      },
      "text/plain": [
       "Running 1000 simulations.:   0%|          | 0/1000 [00:00<?, ?it/s]"
      ]
     },
     "metadata": {},
     "output_type": "display_data"
    },
    {
     "data": {
      "text/plain": [
       "Text(0, 0.5, 'count')"
      ]
     },
     "execution_count": 3,
     "metadata": {},
     "output_type": "execute_result"
    },
    {
     "data": {
      "image/png": "[encoded data removed]",
      "text/plain": [
       "<Figure size 432x288 with 1 Axes>"
      ]
     },
     "metadata": {
      "needs_background": "light"
     },
     "output_type": "display_data"
    }
   ],
   "source": [
    "path_to_model = \"../data/structural_model\"\n",
    "path_to_features = \"../data/cube_model\"\n",
    "# set number of neuron pairs sampled from the connectome to mimick experimental settings, e.g., 50\n",
    "num_subsampling_pairs = 50\n",
    "cube_size = 50\n",
    "num_simulations = 1000\n",
    "\n",
    "# Select feature sets:\n",
    "#     \"set-7\"  # holds subcellular level features: 1 if two neurons meet in a voxel, 0 else., ixjxk entries\n",
    "#     \"set-6\"  # Set 6 holds the common cubes for different cube sizes. ixj entries\n",
    "#     \"set-5\"  # Set 5 holds common cubes, min distance and axon-dendrite product for cube size 50mu-m\n",
    "\n",
    "prior = BoxUniform(torch.zeros(1), torch.ones(1) * 100)\n",
    "model = DistanceRuleSimulator(path_to_model, path_to_features,\n",
    "                            feature_set_name=\"set-6\", \n",
    "                            num_subsampling_pairs=num_subsampling_pairs, cube_size=cube_size)\n",
    "\n",
    "def batch_simulator(theta):\n",
    "    return model.rule(theta, \n",
    "        feature=model.common_cubes, #  Corresponds to feature set 6.\n",
    "        connection_fun=model.cutoff_rule  # cutoff rule forms a connection when feature crosses a threshold.\n",
    "    )\n",
    "\n",
    "\n",
    "theta, x = simulate_for_sbi(batch_simulator, prior, num_simulations=num_simulations, num_workers=1)\n",
    "\n",
    "plt.hist(x.numpy())\n",
    "plt.xlabel(\"connection probability\")\n",
    "plt.ylabel(\"count\")"
   ]
  },
  {
   "cell_type": "markdown",
   "metadata": {},
   "source": [
    "### Synapse level "
   ]
  },
  {
   "cell_type": "code",
   "execution_count": 4,
   "metadata": {},
   "outputs": [],
   "source": [
    "path_to_model = \"../data/subcellular_features\"\n",
    "# set number of neuron pairs sampled from the connectome to mimick experimental settings, e.g., 50\n",
    "num_subsampling_pairs = 50\n",
    "cube_size = 1\n",
    "num_simulations = 1000\n",
    "\n",
    "prior = torch.distributions.Beta(\n",
    "    concentration1=torch.ones(1) * 0.5, concentration0=torch.ones(1) * 0.5\n",
    ")\n",
    "\n",
    "simulator = RuleSimulator(\n",
    "    path_to_model,\n",
    "    peters_rule_subcellular,\n",
    "    verbose=False,\n",
    "    num_subsampling_pairs=num_subsampling_pairs,\n",
    "    experiment_name=\"peters-subcellular\",\n",
    ")\n",
    "batch_simulator, prior = prepare_for_sbi(simulator, prior)"
   ]
  },
  {
   "cell_type": "code",
   "execution_count": 5,
   "metadata": {},
   "outputs": [
    {
     "data": {
      "application/vnd.jupyter.widget-view+json": {
       "model_id": "48df456cfe594be3b82fc3417ecf0654",
       "version_major": 2,
       "version_minor": 0
      },
      "text/plain": [
       "Running 1000 simulations.:   0%|          | 0/1000 [00:00<?, ?it/s]"
      ]
     },
     "metadata": {},
     "output_type": "display_data"
    },
    {
     "data": {
      "text/plain": [
       "Text(0, 0.5, 'count')"
      ]
     },
     "execution_count": 5,
     "metadata": {},
     "output_type": "execute_result"
    },
    {
     "data": {
      "image/png": "[encoded data removed]",
      "text/plain": [
       "<Figure size 432x288 with 1 Axes>"
      ]
     },
     "metadata": {
      "needs_background": "light"
     },
     "output_type": "display_data"
    }
   ],
   "source": [
    "theta, x = simulate_for_sbi(batch_simulator, prior, num_simulations=num_simulations, num_workers=1)\n",
    "plt.hist(x.numpy())\n",
    "plt.xlabel(\"connection probability\")\n",
    "plt.ylabel(\"count\")"
   ]
  },
  {
   "cell_type": "code",
   "execution_count": null,
   "metadata": {},
   "outputs": [],
   "source": []
  }
 ],
 "metadata": {
  "interpreter": {
   "hash": "5a7de0709cf5668163c915cbe0af671111f52f57784fa6cfc8665e949b2fd2c8"
  },
  "kernelspec": {
   "display_name": "Python 3",
   "language": "python",
   "name": "python3"
  },
  "language_info": {
   "codemirror_mode": {
    "name": "ipython",
    "version": 3
   },
   "file_extension": ".py",
   "mimetype": "text/x-python",
   "name": "python",
   "nbconvert_exporter": "python",
   "pygments_lexer": "ipython3",
   "version": "3.7.7"
  }
 },
 "nbformat": 4,
 "nbformat_minor": 2
}
