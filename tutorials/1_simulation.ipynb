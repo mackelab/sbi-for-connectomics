{
 "cells": [
  {
   "cell_type": "markdown",
   "metadata": {},
   "source": [
    "# Simulating wiring rules in silico\n",
    "\n",
    "We use a digital model of one cortical column of the rat barrel cortex to simulate the effect of different wiring rules on the connectome. In turn, we compare summary statistics on the simulated connectome to real measurements to test the plausibility of the wiring rule. \n",
    "\n",
    "The wiring rules have free parameters. To identify those parameters that are likely to reproduce the measured connectivity in silico, we perform Bayesian parameter inference using simulation-based inference (SBI). \n",
    "\n",
    "The wiring rule simulator is implemented in this repository. \n",
    "The code for performing SBI comes from a separate package, the `SBI package`: https://github.com/mackelab/sbi"
   ]
  },
  {
   "cell_type": "markdown",
   "metadata": {},
   "source": [
    "## The structural model of the rat barrel cortex\n",
    "\n",
    "The structural model consists of structural features of neurons in the barrel cortex. \n",
    "The model contains only the features of the neurons and no connections.\n",
    "The connections are introduced only by applying a wiring rule to the structural features. \n",
    "\n",
    "The model is implemented in the `consbi` package. \n",
    "The package contains several classes that take care of all the steps required for applying a wiring rule to the model, and many different functions representing different wiring rules. \n",
    "For example, the `RuleSimulator` class allows to simulate many variations of the dense structural overlap (DSO) rule presented in the paper; \n",
    "the `DistanceRuleSimulator` class allows to the simulator distance-based rules like we used in the second part of the paper. \n",
    "\n",
    "### Simplified model for evaluation\n",
    "We used a simplified version of the structural model to evaluate our approach. \n",
    "The simplified version contains only a small number of neurons and features and is therefore fast to simulate. \n",
    "Additionally, there are no summary statistics involved such that simulating new connections corresponds to just sampling from a Poisson distribution (see Methods & Materials for details). \n",
    "This version of the wiring rule simulator is represented by the `poisson_glm` function. "
   ]
  },
  {
   "cell_type": "code",
   "execution_count": 1,
   "metadata": {},
   "outputs": [],
   "source": [
    "import numpy as np\n",
    "import pickle\n",
    "\n",
    "from consbi.simulators import DistanceRuleSimulator, RuleSimulator, poisson_glm, peters_rule_subcellular\n",
    "from consbi.simulators import default_rule\n",
    "from torch.distributions import MultivariateNormal\n",
    "\n",
    "from sbi.inference import prepare_for_sbi, simulate_for_sbi\n",
    "from sbi.utils import BoxUniform\n",
    "\n",
    "import torch\n",
    "import matplotlib.pyplot as plt\n",
    "\n",
    "from consbi import DATA_PATH, RESULTS_PATH, BASE_PATH\n",
    "\n",
    "plt.style.use(str(BASE_PATH.joinpath(\"figures/plotting_settings.mplstyle\")))\n",
    "%matplotlib inline"
   ]
  },
  {
   "cell_type": "markdown",
   "metadata": {},
   "source": [
    "## Simulating data\n",
    "To simulate connectivity data we need \n",
    "- a simulator class, \n",
    "- a wiring rule with free parameters and \n",
    "- a prior distribution over the parameters.\n",
    "\n",
    "Below, we start with simulating data from the DSO rule (called `default_rule` in the code). The DSO rule was used as the main example shown in the paper. "
   ]
  },
  {
   "cell_type": "code",
   "execution_count": 2,
   "metadata": {},
   "outputs": [
    {
     "name": "stdout",
     "output_type": "stream",
     "text": [
      "Loading features, this may take a while...\n",
      "Time elapsed: 125.41540503501892\n"
     ]
    },
    {
     "name": "stderr",
     "output_type": "stream",
     "text": [
      "/Users/janbolts/qode/sbi-for-connectomics/consbi/simulators/rule_simulator.py:657: RuntimeWarning: invalid value encountered in log\n",
      "  log_features = np.log(features)\n"
     ]
    },
    {
     "name": "stdout",
     "output_type": "stream",
     "text": [
      "constraint 0, num rows (with overlap) 2168393\n",
      "constraint 1, num rows (with overlap) 687074\n",
      "constraint 2, num rows (with overlap) 308345\n",
      "constraint 3, num rows (with overlap) 674175\n",
      "constraint 4, num rows (with overlap) 559727\n",
      "constraint 5, num rows (with overlap) 587659\n",
      "constraint 6, num rows (with overlap) 1096435\n"
     ]
    }
   ],
   "source": [
    "# the structural features of the model are saved to disk. specify the path:\n",
    "path_to_model = str(BASE_PATH.joinpath(\"data/structural_model\"))\n",
    "\n",
    "# set number of neuron pairs sampled from the connectome to mimick experimental settings, e.g., 50\n",
    "num_subsampling_pairs = 50\n",
    "\n",
    "# set the default rule as wiring rule (DSO)\n",
    "simulator = RuleSimulator(path_to_model, \n",
    "                          default_rule, \n",
    "                          verbose=True, \n",
    "                          num_subsampling_pairs=num_subsampling_pairs)"
   ]
  },
  {
   "cell_type": "code",
   "execution_count": 3,
   "metadata": {},
   "outputs": [],
   "source": [
    "# we choose a Gaussian prior around the initial version of the DSO rule (Udvary et al.)\n",
    "prior = MultivariateNormal(torch.ones(3), 0.05 * torch.eye(3))"
   ]
  },
  {
   "cell_type": "code",
   "execution_count": 4,
   "metadata": {},
   "outputs": [
    {
     "data": {
      "application/vnd.jupyter.widget-view+json": {
       "model_id": "0c0ce17c79174b90b6bebdf52969942b",
       "version_major": 2,
       "version_minor": 0
      },
      "text/plain": [
       "Running 100 simulations in 10 batches.:   0%|          | 0/10 [00:00<?, ?it/s]"
      ]
     },
     "metadata": {},
     "output_type": "display_data"
    }
   ],
   "source": [
    "# we use the SBI package to run simulations in parallel.\n",
    "# simulations will be quite slow so we set this to 100 for demonstration \n",
    "# and reload pre-simulated data from disk below.\n",
    "num_simulations = 100\n",
    "num_workers = 4\n",
    "worker_batch_size = 10\n",
    "\n",
    "# wrap the simulator to handle batches of parameters\n",
    "batch_simulator, prior = prepare_for_sbi(simulator, prior)\n",
    "\n",
    "theta, x = simulate_for_sbi(batch_simulator, prior, num_simulations=num_simulations, \n",
    "                            num_workers=num_workers, \n",
    "                            simulation_batch_size=worker_batch_size)"
   ]
  },
  {
   "cell_type": "code",
   "execution_count": 11,
   "metadata": {},
   "outputs": [],
   "source": [
    "# load prior predictive samples\n",
    "with open(DATA_PATH.joinpath(\"presimulated_dso_gaussian005_n1000000.p\"), \"rb\") as fh: \n",
    "    prior, ths, xs = pickle.load(fh).values()"
   ]
  },
  {
   "cell_type": "markdown",
   "metadata": {},
   "source": [
    "### Visualization\n",
    "\n",
    "The simulated data consists of seven numbers that correspond to the seven measurements of connectivity between thalamo-cortical cell types in the rat that have been measured experimentally. \n",
    "\n",
    "Below we plot the seven measurements (black) and the corresponding simulated data (grey histogram). "
   ]
  },
  {
   "cell_type": "code",
   "execution_count": 12,
   "metadata": {},
   "outputs": [
    {
     "data": {
      "image/png": "[encoded data removed]",
      "text/plain": [
       "<Figure size 864x216 with 7 Axes>"
      ]
     },
     "metadata": {
      "needs_background": "light"
     },
     "output_type": "display_data"
    }
   ],
   "source": [
    "fig, ax = plt.subplots(1, 7, figsize=(12, 3), gridspec_kw=dict(wspace=0.15))\n",
    "xo = np.array([[0.4300, 0.4300, 0.4200, 0.6400, 0.1700, 0.4400, 0.0900]])\n",
    "\n",
    "colors = ['#377eb8', '#ff7f00', '#4daf4a',\n",
    "                  '#f781bf', '#a65628', '#984ea3',\n",
    "                  '#999999', '#e41a1c', '#dede00']\n",
    "data_labels = [r\"L4\", r\"L4SEP\", r\"L4SP\", r\"L4SS\", r\"L5IT\", r\"L5PT\", r\"L6\"]\n",
    "num_bins = 15\n",
    "\n",
    "for ii in range(7):\n",
    "    plt.sca(ax[ii])\n",
    "    plt.hist(xs[:, ii].numpy(), color=colors[6], \n",
    "             bins=np.linspace(0, 1, num_bins), \n",
    "             density=True,\n",
    "             alpha=0.9)\n",
    "    plt.axvline(xo[0, ii], color=\"k\")\n",
    "    plt.xticks(np.linspace(0,1,2))\n",
    "    plt.xlim(0, 1)\n",
    "    ax[ii].spines[\"right\"].set_visible(False)\n",
    "    ax[ii].spines[\"top\"].set_visible(False)\n",
    "    ax[ii].spines[\"left\"].set_visible(False)\n",
    "    plt.yticks([])\n",
    "    plt.xlabel(data_labels[ii])\n",
    "plt.legend([\"measured\", \"simulated \\nfrom prior\"], bbox_to_anchor=(.11, .56), handlelength=1.0);"
   ]
  },
  {
   "cell_type": "markdown",
   "metadata": {},
   "source": [
    "## Result\n",
    "\n",
    "The simulations with parameters sampled from the prior shown above cover the entire range of possible probability values. They also seem to contain the measurements. \n",
    "\n",
    "This is exactly what we need for running SBI: Among the many different parameter combinations simulated above, SBI will help us to find those combinations that result in data similar to the measurements.\n",
    "\n",
    "See the `2_inference` notebook for details."
   ]
  },
  {
   "cell_type": "markdown",
   "metadata": {},
   "source": [
    "## Distance based rules\n",
    "\n",
    "The second example show in the paper are wiring rules that form connections solely based on how close the neurons are to each other. \n",
    "\n",
    "There two variants:\n",
    " - one that acts at the neuron-level, simulating connections for every neuron pair\n",
    " - and one that acts at the subcellular level, simulating connections (synapses) for each neuron-pair in every subvolume.\n",
    "\n",
    "Both variants can be applied at different levels of resolution of the structural model, i.e., the side length of the subvolume (cube size).\n",
    "\n",
    "### Neuron level\n",
    "The neuron level rule has its own class for simulating corresponding connectomes: `DistanceRuleSimulator`. \n",
    "There are different sets of structural features: set 6 for the neuron level, and set 7 for the synapse level.\n",
    "\n",
    "Similarly, there are different rule functions and features that need to be passed to the simulator: \n",
    "    - number of `common_cubes` as features and the `cutoff_rule` as rule for the neuron level\n",
    "    - for the synapse level rule, there is a separate function `rule_subcellular`\n",
    "\n",
    "### Synapse level\n",
    "However, the synapse level rule, because it has ixjxk entries to simulate, can be very slow in this simple implementation without prelocation. Thus, for simulating the synapse level rule we return to the original simulator `RuleSimulator`."
   ]
  },
  {
   "cell_type": "markdown",
   "metadata": {},
   "source": [
    "### Neuron level"
   ]
  },
  {
   "cell_type": "code",
   "execution_count": 13,
   "metadata": {},
   "outputs": [
    {
     "name": "stdout",
     "output_type": "stream",
     "text": [
      "using feature set-6\n"
     ]
    },
    {
     "data": {
      "application/vnd.jupyter.widget-view+json": {
       "model_id": "abc1ebe33e684a56ba7709eb5aca8883",
       "version_major": 2,
       "version_minor": 0
      },
      "text/plain": [
       "Running 1000 simulations.:   0%|          | 0/1000 [00:00<?, ?it/s]"
      ]
     },
     "metadata": {},
     "output_type": "display_data"
    },
    {
     "data": {
      "image/png": "[encoded data removed]",
      "text/plain": [
       "<Figure size 432x288 with 1 Axes>"
      ]
     },
     "metadata": {
      "needs_background": "light"
     },
     "output_type": "display_data"
    }
   ],
   "source": [
    "path_to_model = str(DATA_PATH.joinpath(\"cube_model\"))\n",
    "# set number of neuron pairs sampled from the connectome to mimick experimental settings, e.g., 50\n",
    "num_subsampling_pairs = 50\n",
    "cube_size = 50\n",
    "num_simulations = 1000\n",
    "\n",
    "# Select feature sets:\n",
    "#     \"set-7\"  # holds subcellular level features: 1 if two neurons meet in a voxel, 0 else., ixjxk entries\n",
    "#     \"set-6\"  # Set 6 holds the common cubes for different cube sizes. ixj entries\n",
    "#     \"set-5\"  # Set 5 holds common cubes, min distance and axon-dendrite product for cube size 50mu-m\n",
    "\n",
    "prior = BoxUniform(torch.zeros(1), torch.ones(1) * 100)\n",
    "model = DistanceRuleSimulator(path_to_model,\n",
    "                              feature_set_name=\"set-6\", \n",
    "                              num_subsampling_pairs=num_subsampling_pairs, \n",
    "                              cube_size=cube_size)\n",
    "\n",
    "def batch_simulator(theta):\n",
    "    return model.rule(theta, \n",
    "        feature=model.common_cubes, #  Corresponds to feature set 6.\n",
    "        connection_fun=model.cutoff_rule  # cutoff rule forms a connection when feature crosses a threshold.\n",
    "    )\n",
    "\n",
    "\n",
    "theta, x = simulate_for_sbi(batch_simulator, prior, num_simulations=num_simulations, num_workers=1)\n",
    "\n",
    "plt.hist(x.numpy())\n",
    "plt.xlabel(\"connection probability\")\n",
    "plt.ylabel(\"count\");"
   ]
  },
  {
   "cell_type": "markdown",
   "metadata": {},
   "source": [
    "### Visualization\n",
    "\n",
    "Here, we chose a compact version of visualizing the seven connection probabilities: we show of the seven values as bar plot across the interval `[0, 1]`. \n",
    "\n",
    "It is good if the bars are relatively similar in height, corresponding to a balanced prior predictive distribution. "
   ]
  },
  {
   "cell_type": "markdown",
   "metadata": {},
   "source": [
    "### Synapse level "
   ]
  },
  {
   "cell_type": "code",
   "execution_count": 14,
   "metadata": {},
   "outputs": [],
   "source": [
    "path_to_model = str(DATA_PATH.joinpath(\"subcellular_features\"))\n",
    "# set number of neuron pairs sampled from the connectome to mimick experimental settings, e.g., 50\n",
    "num_subsampling_pairs = 50\n",
    "cube_size = 1\n",
    "num_simulations = 1000\n",
    "\n",
    "prior = torch.distributions.Beta(\n",
    "    concentration1=torch.ones(1) * 0.5, concentration0=torch.ones(1) * 0.5\n",
    ")\n",
    "\n",
    "simulator = RuleSimulator(\n",
    "    path_to_model,\n",
    "    peters_rule_subcellular,\n",
    "    verbose=False,\n",
    "    num_subsampling_pairs=num_subsampling_pairs,\n",
    "    experiment_name=\"peters-subcellular\",\n",
    ")\n",
    "batch_simulator, prior = prepare_for_sbi(simulator, prior)"
   ]
  },
  {
   "cell_type": "code",
   "execution_count": 17,
   "metadata": {},
   "outputs": [
    {
     "data": {
      "image/png": "[encoded data removed]",
      "text/plain": [
       "<Figure size 432x288 with 1 Axes>"
      ]
     },
     "metadata": {
      "needs_background": "light"
     },
     "output_type": "display_data"
    }
   ],
   "source": [
    "theta, x = simulate_for_sbi(batch_simulator, prior, num_simulations=num_simulations, num_workers=1)\n",
    "plt.hist(x.numpy().squeeze())\n",
    "plt.xlabel(\"connection probability\")\n",
    "plt.ylabel(\"count\");"
   ]
  },
  {
   "cell_type": "markdown",
   "metadata": {},
   "source": [
    "## Poisson GLM\n",
    "\n",
    "Running the poisson GLM simulator corresponds to applying the rule to a small set of structural features and sampling from a Poisson distribution with the resulting rates. Thus, it very fast to set up and ideal for testing: "
   ]
  },
  {
   "cell_type": "code",
   "execution_count": 18,
   "metadata": {},
   "outputs": [],
   "source": [
    "prior = MultivariateNormal(torch.ones(3), 0.5 * torch.eye(3))\n",
    "theta = prior.sample((10000,))\n",
    "x = poisson_glm(theta)"
   ]
  },
  {
   "cell_type": "code",
   "execution_count": 19,
   "metadata": {},
   "outputs": [
    {
     "data": {
      "image/png": "[encoded data removed]",
      "text/plain": [
       "<Figure size 432x288 with 1 Axes>"
      ]
     },
     "metadata": {
      "needs_background": "light"
     },
     "output_type": "display_data"
    }
   ],
   "source": [
    "plt.hist(x.numpy())\n",
    "plt.xlabel(\"Counts\");"
   ]
  },
  {
   "cell_type": "code",
   "execution_count": null,
   "metadata": {},
   "outputs": [],
   "source": []
  }
 ],
 "metadata": {
  "interpreter": {
   "hash": "5a7de0709cf5668163c915cbe0af671111f52f57784fa6cfc8665e949b2fd2c8"
  },
  "kernelspec": {
   "display_name": "Python 3 (ipykernel)",
   "language": "python",
   "name": "python3"
  },
  "language_info": {
   "codemirror_mode": {
    "name": "ipython",
    "version": 3
   },
   "file_extension": ".py",
   "mimetype": "text/x-python",
   "name": "python",
   "nbconvert_exporter": "python",
   "pygments_lexer": "ipython3",
   "version": "3.7.16"
  },
  "toc": {
   "base_numbering": 1,
   "nav_menu": {},
   "number_sections": true,
   "sideBar": true,
   "skip_h1_title": false,
   "title_cell": "Table of Contents",
   "title_sidebar": "Contents",
   "toc_cell": false,
   "toc_position": {},
   "toc_section_display": true,
   "toc_window_display": false
  }
 },
 "nbformat": 4,
 "nbformat_minor": 4
}
