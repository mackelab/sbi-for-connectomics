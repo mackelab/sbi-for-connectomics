{
 "cells": [
  {
   "cell_type": "markdown",
   "metadata": {},
   "source": [
    "# Using SBI to infer parameter given observed data\n",
    "\n",
    "Once simulated data has been generated (see `1_simulation` notebook), applying SBI is straight forward using the `sbi` package: \n",
    "\n",
    "- select an SBI method, we use SNPE (see paper for details)\n",
    "- add the simulated data and corresponding parameters to the SNPE object\n",
    "- call `train()` to start the training of the underlying neural networks\n",
    "- obtain the posterior, DONE. "
   ]
  },
  {
   "cell_type": "code",
   "execution_count": 10,
   "metadata": {},
   "outputs": [],
   "source": [
    "import pickle\n",
    "\n",
    "from sbi.analysis import pairplot\n",
    "from sbi.inference import SNPE\n",
    "from sbi.utils import posterior_nn\n",
    "\n",
    "from consbi import DATA_PATH, RESULTS_PATH, BASE_PATH"
   ]
  },
  {
   "cell_type": "code",
   "execution_count": 11,
   "metadata": {},
   "outputs": [],
   "source": [
    "# Load data\n",
    "with open(DATA_PATH.joinpath(\"presimulated_dso_gaussian_05_n500000.p\"), \"rb\") as fh:\n",
    "    prior, theta, x = pickle.load(fh).values()"
   ]
  },
  {
   "cell_type": "code",
   "execution_count": 17,
   "metadata": {},
   "outputs": [],
   "source": [
    "# Set up inference\n",
    "trainer = SNPE(\n",
    "    prior,\n",
    "    # we pass NSF to specify to type of neural network used to learn the posterior approximation. \n",
    "    # NSF = neural spline flow (Durkan et al. 2019).\n",
    "    density_estimator=\"nsf\",\n",
    ")\n",
    "\n",
    "# add training data to trainer.\n",
    "num_training_data = 10000\n",
    "trainer.append_simulations(theta[:num_training_data], x[:num_training_data]);"
   ]
  },
  {
   "cell_type": "code",
   "execution_count": 18,
   "metadata": {},
   "outputs": [
    {
     "name": "stdout",
     "output_type": "stream",
     "text": [
      " Neural network successfully converged after 84 epochs."
     ]
    }
   ],
   "source": [
    "# train\n",
    "posterior_estimator = trainer.train()"
   ]
  },
  {
   "cell_type": "code",
   "execution_count": 19,
   "metadata": {},
   "outputs": [],
   "source": [
    "# obtain posterior\n",
    "posterior = trainer.build_posterior()"
   ]
  },
  {
   "cell_type": "code",
   "execution_count": 20,
   "metadata": {},
   "outputs": [
    {
     "data": {
      "application/vnd.jupyter.widget-view+json": {
       "model_id": "d8ec13759f2346a4aadf41b4e86339ea",
       "version_major": 2,
       "version_minor": 0
      },
      "text/plain": [
       "HBox(children=(FloatProgress(value=0.0, description='Drawing 10000 posterior samples', max=10000.0, style=Prog…"
      ]
     },
     "metadata": {},
     "output_type": "display_data"
    },
    {
     "name": "stdout",
     "output_type": "stream",
     "text": [
      "\n"
     ]
    },
    {
     "name": "stderr",
     "output_type": "stream",
     "text": [
      "/home/janfb/anaconda3/envs/spp/lib/python3.7/site-packages/nflows/transforms/lu.py:81: UserWarning: torch.triangular_solve is deprecated in favor of torch.linalg.solve_triangularand will be removed in a future PyTorch release.\n",
      "torch.linalg.solve_triangular has its arguments reversed and does not return a copy of one of the inputs.\n",
      "X = torch.triangular_solve(B, A).solution\n",
      "should be replaced with\n",
      "X = torch.linalg.solve_triangular(A, B). (Triggered internally at /opt/conda/conda-bld/pytorch_1666643004612/work/aten/src/ATen/native/BatchLinearAlgebra.cpp:2115.)\n",
      "  outputs.t(), lower, upper=False, unitriangular=True\n"
     ]
    },
    {
     "data": {
      "text/plain": [
       "(<Figure size 720x720 with 9 Axes>,\n",
       " array([[<AxesSubplot:xlabel='dim 1'>, <AxesSubplot:>, <AxesSubplot:>],\n",
       "        [<AxesSubplot:>, <AxesSubplot:xlabel='dim 2'>, <AxesSubplot:>],\n",
       "        [<AxesSubplot:>, <AxesSubplot:>, <AxesSubplot:xlabel='dim 3'>]],\n",
       "       dtype=object))"
      ]
     },
     "execution_count": 20,
     "metadata": {},
     "output_type": "execute_result"
    },
    {
     "data": {
      "image/png": "[encoded data removed]",
      "text/plain": [
       "<Figure size 720x720 with 9 Axes>"
      ]
     },
     "metadata": {
      "needs_background": "light"
     },
     "output_type": "display_data"
    }
   ],
   "source": [
    "# we trained on simulated data. \n",
    "# To perform inference we would normally pass the actually observed data to the posterior object.\n",
    "# Here, for demonstration we simpy pass the first object in the training data set as observed data.\n",
    "x_o = x[:1]\n",
    "\n",
    "# Consequently, we actually know the underlying ground truth parameters used to generate this data.\n",
    "# In the plot below we will see how the posterior nicely clusters around this parameter value.\n",
    "theta_o = theta[:1]\n",
    "\n",
    "# pass x_o and generate samples\n",
    "samples = posterior.sample((10000,), x=x_o)\n",
    "# plot as pairplot.\n",
    "pairplot(samples, points=theta[:1], );"
   ]
  },
  {
   "cell_type": "markdown",
   "metadata": {},
   "source": [
    "Lastly, we save the inference object for analysis. See `3_posterior_analysis` for more."
   ]
  },
  {
   "cell_type": "code",
   "execution_count": 22,
   "metadata": {},
   "outputs": [],
   "source": [
    "# save posterior for analysis\n",
    "with open(RESULTS_PATH.joinpath(f\"tutorial_posterior_gaussian_05_N{num_training_data}.p\"), \"wb\") as fh: \n",
    "    pickle.dump(dict(prior=prior, \n",
    "                     posterior=posterior, \n",
    "                     theta=theta,\n",
    "                     x=x, \n",
    "                    ),\n",
    "                fh,\n",
    "               )"
   ]
  },
  {
   "cell_type": "code",
   "execution_count": null,
   "metadata": {},
   "outputs": [],
   "source": []
  }
 ],
 "metadata": {
  "kernelspec": {
   "display_name": "Python 3",
   "language": "python",
   "name": "python3"
  },
  "language_info": {
   "codemirror_mode": {
    "name": "ipython",
    "version": 3
   },
   "file_extension": ".py",
   "mimetype": "text/x-python",
   "name": "python",
   "nbconvert_exporter": "python",
   "pygments_lexer": "ipython3",
   "version": "3.7.7"
  }
 },
 "nbformat": 4,
 "nbformat_minor": 5
}
