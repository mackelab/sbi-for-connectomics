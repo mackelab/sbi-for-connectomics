{
 "cells": [
  {
   "cell_type": "code",
   "execution_count": 1,
   "id": "5137803b",
   "metadata": {},
   "outputs": [],
   "source": [
    "import pickle\n",
    "\n",
    "from sbi.analysis import pairplot\n",
    "from sbi.inference import SNLE\n",
    "from sbi.utils import posterior_nn"
   ]
  },
  {
   "cell_type": "code",
   "execution_count": 2,
   "id": "97e2fca8",
   "metadata": {},
   "outputs": [],
   "source": [
    "# Load data\n",
    "with open(\"../data/presimulated_dso_rule_n10.p\", \"rb\") as fh:\n",
    "    prior, theta, x = pickle.load(fh).values()"
   ]
  },
  {
   "cell_type": "code",
   "execution_count": null,
   "id": "4e47c639",
   "metadata": {},
   "outputs": [],
   "source": [
    "# Set up inference\n",
    "estimator_builder = posterior_nn(model=\"mdn\", num_components=5)\n",
    "trainer = SNPE(prior)"
   ]
  },
  {
   "cell_type": "code",
   "execution_count": null,
   "id": "6cfdfd5d",
   "metadata": {},
   "outputs": [],
   "source": [
    "# train\n",
    "posterior_estimator = trainer.train()"
   ]
  },
  {
   "cell_type": "code",
   "execution_count": null,
   "id": "92815317",
   "metadata": {},
   "outputs": [],
   "source": [
    "# obtain posterior\n",
    "posterior = trainer.build_posterior()"
   ]
  },
  {
   "cell_type": "code",
   "execution_count": null,
   "id": "8d8a4bd2",
   "metadata": {},
   "outputs": [],
   "source": [
    "# sample and plot\n",
    "x_o = x[:1]  # placeholder\n",
    "samples = posterior.sample((1000,), x=x_o)\n",
    "pairplot(samples, points=theta[:1])"
   ]
  }
 ],
 "metadata": {
  "kernelspec": {
   "display_name": "Python 3 (ipykernel)",
   "language": "python",
   "name": "python3"
  },
  "language_info": {
   "codemirror_mode": {
    "name": "ipython",
    "version": 3
   },
   "file_extension": ".py",
   "mimetype": "text/x-python",
   "name": "python",
   "nbconvert_exporter": "python",
   "pygments_lexer": "ipython3",
   "version": "3.7.13"
  }
 },
 "nbformat": 4,
 "nbformat_minor": 5
}
