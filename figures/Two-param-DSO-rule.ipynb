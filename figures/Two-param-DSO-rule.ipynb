{
 "cells": [
  {
   "cell_type": "code",
   "execution_count": 51,
   "metadata": {},
   "outputs": [],
   "source": [
    "import numpy as np\n",
    "import pickle\n",
    "\n",
    "from consbi.simulators import (\n",
    "    DistanceRuleSimulator, \n",
    "    RuleSimulator, \n",
    "    poisson_glm, \n",
    "    peters_rule_subcellular, \n",
    "    two_param_poisson_glm,\n",
    "    default_rule_linear, \n",
    "    two_param_rule_dependent,\n",
    "    dso_linear_two_param,\n",
    ")\n",
    "from consbi.simulators.poisson_glm import *\n",
    "from consbi.simulators.rule_simulator import *\n",
    "from consbi.simulators import default_rule\n",
    "from torch.distributions import MultivariateNormal\n",
    "\n",
    "from sbi.inference import prepare_for_sbi, simulate_for_sbi\n",
    "from sbi.utils import BoxUniform\n",
    "\n",
    "import torch\n",
    "import matplotlib.pyplot as plt\n",
    "plt.style.use('plotting_settings.mplstyle')\n",
    "%matplotlib inline"
   ]
  },
  {
   "cell_type": "code",
   "execution_count": 3,
   "metadata": {},
   "outputs": [],
   "source": [
    "# The prior will be Gaussian for most rules.\n",
    "num_dim = 3\n",
    "prior_scale = 3\n",
    "prior = BoxUniform(torch.zeros(num_dim), prior_scale * torch.ones(num_dim))\n",
    "xo = np.array([[0.4300, 0.4300, 0.4200, 0.6400, 0.1700, 0.4400, 0.0900]])"
   ]
  },
  {
   "cell_type": "markdown",
   "metadata": {},
   "source": [
    "## Poisson GLM\n",
    "\n",
    "The problem is reduced to just 10 neuron-pair-subvolume combinations withtout summary statistics, i.e., the simulator returns the raw synapse counts sampled from a Poisson distribution. Thus, it is fast and tractable. "
   ]
  },
  {
   "cell_type": "code",
   "execution_count": 4,
   "metadata": {},
   "outputs": [],
   "source": [
    "theta = prior.sample((10000,))\n",
    "x = poisson_glm_constrained(theta)"
   ]
  },
  {
   "cell_type": "code",
   "execution_count": 5,
   "metadata": {},
   "outputs": [
    {
     "data": {
      "text/plain": [
       "Text(0.5, 0, 'Counts')"
      ]
     },
     "execution_count": 5,
     "metadata": {},
     "output_type": "execute_result"
    },
    {
     "data": {
      "image/png": "[encoded data removed]",
      "text/plain": [
       "<Figure size 1296x360 with 1 Axes>"
      ]
     },
     "metadata": {
      "needs_background": "light"
     },
     "output_type": "display_data"
    }
   ],
   "source": [
    "plt.figure(figsize=(18, 5))\n",
    "plt.hist(x.numpy(), density=0)\n",
    "plt.xlabel(\"Counts\")\n",
    "# plt.legend([f\"neuron-pair-volume combi {ii}\" for ii in range(10)]);"
   ]
  },
  {
   "cell_type": "code",
   "execution_count": 14,
   "metadata": {},
   "outputs": [
    {
     "name": "stdout",
     "output_type": "stream",
     "text": [
      "Loading features, this may take a while...\n",
      "Time elapsed: 153.98921155929565\n"
     ]
    },
    {
     "name": "stderr",
     "output_type": "stream",
     "text": [
      "/home/janfb/qode/sbi-for-connectomics/consbi/simulators/rule_simulator.py:657: RuntimeWarning: invalid value encountered in log\n",
      "  log_features = np.log(features)\n"
     ]
    },
    {
     "name": "stdout",
     "output_type": "stream",
     "text": [
      "constraint 0, num rows (with overlap) 2168393\n",
      "constraint 1, num rows (with overlap) 687074\n",
      "constraint 2, num rows (with overlap) 308345\n",
      "constraint 3, num rows (with overlap) 674175\n",
      "constraint 4, num rows (with overlap) 559727\n",
      "constraint 5, num rows (with overlap) 587659\n",
      "constraint 6, num rows (with overlap) 1096435\n"
     ]
    }
   ],
   "source": [
    "path_to_model = \"../data/structural_model\"\n",
    "# set number of neuron pairs sampled from the connectome to mimick experimental settings, e.g., 50\n",
    "num_subsampling_pairs = 50\n",
    "simulator = RuleSimulator(path_to_model, \n",
    "                          rule=default_rule_linear, \n",
    "                          verbose=True, \n",
    "                          num_subsampling_pairs=num_subsampling_pairs,\n",
    "                          prelocate_postall_offset=True,\n",
    "                         )"
   ]
  },
  {
   "cell_type": "code",
   "execution_count": 43,
   "metadata": {},
   "outputs": [
    {
     "data": {
      "image/png": "[encoded data removed]",
      "text/plain": [
       "<Figure size 720x720 with 1 Axes>"
      ]
     },
     "metadata": {
      "needs_background": "light"
     },
     "output_type": "display_data"
    }
   ],
   "source": [
    "num_dim = 1\n",
    "rrr = .3\n",
    "prior1 = BoxUniform(torch.zeros(num_dim), prior_scale * torch.ones(num_dim))\n",
    "prior2 = BoxUniform((1-rrr) * torch.ones(num_dim), (1+rrr) * torch.ones(num_dim))\n",
    "\n",
    "base = 2.5\n",
    "pairplot([base * prior1.sample((10000,)), base ** prior2.sample((10000,))], upper=\"scatter\");"
   ]
  },
  {
   "cell_type": "code",
   "execution_count": 39,
   "metadata": {},
   "outputs": [],
   "source": [
    "num_simulations = 1000\n",
    "num_dim = 3\n",
    "prior_scale = 3\n",
    "prior = BoxUniform(torch.zeros(num_dim), prior_scale * torch.ones(num_dim))\n",
    "from functools import partial\n",
    "\n",
    "simulator.rule = default_rule\n",
    "\n",
    "def batch_loop_simulator(theta):\n",
    "        \"\"\"Return a batch of simulations by looping over a batch of parameters.\"\"\"\n",
    "        assert theta.ndim > 1, \"Theta must have a batch dimension.\"\n",
    "        # Simulate in loop\n",
    "        xs = list(map(simulator, theta))\n",
    "        # Stack over batch to keep x_shape\n",
    "        return torch.stack(xs)\n",
    "\n",
    "# wrap the simulator to handle batches of parameters\n",
    "batch_simulator, prior = prepare_for_sbi(batch_loop_simulator, prior)"
   ]
  },
  {
   "cell_type": "code",
   "execution_count": null,
   "metadata": {},
   "outputs": [
    {
     "data": {
      "application/vnd.jupyter.widget-view+json": {
       "model_id": "bc5376b15a3b40af9bffbfdaf8de8318",
       "version_major": 2,
       "version_minor": 0
      },
      "text/plain": [
       "HBox(children=(FloatProgress(value=0.0, description='Running 100000 simulations in 1000 batches.', max=1000.0,…"
      ]
     },
     "metadata": {},
     "output_type": "display_data"
    }
   ],
   "source": [
    "theta, x = simulate_for_sbi(batch_simulator, prior, num_simulations=num_simulations, \n",
    "                            num_workers=24, \n",
    "                            simulation_batch_size=100)\n"
   ]
  },
  {
   "cell_type": "code",
   "execution_count": null,
   "metadata": {},
   "outputs": [],
   "source": [
    "# save prior predictive samples\n",
    "with open(f\"../results/prior_predictive_samples_dso_two_param_N{num_simulations}.p\", \"wb\") as fh: \n",
    "    pickle.dump(dict(theta=theta, x=x), fh)"
   ]
  },
  {
   "cell_type": "code",
   "execution_count": null,
   "metadata": {},
   "outputs": [],
   "source": [
    "x = x.squeeze()"
   ]
  },
  {
   "cell_type": "code",
   "execution_count": 25,
   "metadata": {},
   "outputs": [
    {
     "ename": "NameError",
     "evalue": "name 'x' is not defined",
     "output_type": "error",
     "traceback": [
      "\u001b[0;31m---------------------------------------------------------------------------\u001b[0m",
      "\u001b[0;31mNameError\u001b[0m                                 Traceback (most recent call last)",
      "\u001b[0;32m<ipython-input-25-60ba934895b0>\u001b[0m in \u001b[0;36m<module>\u001b[0;34m\u001b[0m\n\u001b[1;32m     10\u001b[0m \u001b[0;32mfor\u001b[0m \u001b[0mii\u001b[0m \u001b[0;32min\u001b[0m \u001b[0mrange\u001b[0m\u001b[0;34m(\u001b[0m\u001b[0;36m7\u001b[0m\u001b[0;34m)\u001b[0m\u001b[0;34m:\u001b[0m\u001b[0;34m\u001b[0m\u001b[0;34m\u001b[0m\u001b[0m\n\u001b[1;32m     11\u001b[0m     \u001b[0mplt\u001b[0m\u001b[0;34m.\u001b[0m\u001b[0msca\u001b[0m\u001b[0;34m(\u001b[0m\u001b[0max\u001b[0m\u001b[0;34m[\u001b[0m\u001b[0mii\u001b[0m\u001b[0;34m]\u001b[0m\u001b[0;34m)\u001b[0m\u001b[0;34m\u001b[0m\u001b[0;34m\u001b[0m\u001b[0m\n\u001b[0;32m---> 12\u001b[0;31m     \u001b[0mplt\u001b[0m\u001b[0;34m.\u001b[0m\u001b[0mhist\u001b[0m\u001b[0;34m(\u001b[0m\u001b[0mx\u001b[0m\u001b[0;34m[\u001b[0m\u001b[0;34m:\u001b[0m\u001b[0;34m,\u001b[0m \u001b[0mii\u001b[0m\u001b[0;34m]\u001b[0m\u001b[0;34m.\u001b[0m\u001b[0mnumpy\u001b[0m\u001b[0;34m(\u001b[0m\u001b[0;34m)\u001b[0m\u001b[0;34m,\u001b[0m \u001b[0mcolor\u001b[0m\u001b[0;34m=\u001b[0m\u001b[0mcolors\u001b[0m\u001b[0;34m[\u001b[0m\u001b[0;36m6\u001b[0m\u001b[0;34m]\u001b[0m\u001b[0;34m,\u001b[0m \u001b[0mbins\u001b[0m\u001b[0;34m=\u001b[0m\u001b[0mnp\u001b[0m\u001b[0;34m.\u001b[0m\u001b[0mlinspace\u001b[0m\u001b[0;34m(\u001b[0m\u001b[0;36m0\u001b[0m\u001b[0;34m,\u001b[0m \u001b[0;36m1\u001b[0m\u001b[0;34m,\u001b[0m \u001b[0mnum_bins\u001b[0m\u001b[0;34m)\u001b[0m\u001b[0;34m,\u001b[0m \u001b[0malpha\u001b[0m\u001b[0;34m=\u001b[0m\u001b[0;36m0.9\u001b[0m\u001b[0;34m)\u001b[0m\u001b[0;34m\u001b[0m\u001b[0;34m\u001b[0m\u001b[0m\n\u001b[0m\u001b[1;32m     13\u001b[0m     \u001b[0mplt\u001b[0m\u001b[0;34m.\u001b[0m\u001b[0maxvline\u001b[0m\u001b[0;34m(\u001b[0m\u001b[0mxo\u001b[0m\u001b[0;34m[\u001b[0m\u001b[0;36m0\u001b[0m\u001b[0;34m,\u001b[0m \u001b[0mii\u001b[0m\u001b[0;34m]\u001b[0m\u001b[0;34m,\u001b[0m \u001b[0mcolor\u001b[0m\u001b[0;34m=\u001b[0m\u001b[0;34m\"k\"\u001b[0m\u001b[0;34m)\u001b[0m\u001b[0;34m\u001b[0m\u001b[0;34m\u001b[0m\u001b[0m\n\u001b[1;32m     14\u001b[0m     \u001b[0mplt\u001b[0m\u001b[0;34m.\u001b[0m\u001b[0mxticks\u001b[0m\u001b[0;34m(\u001b[0m\u001b[0mnp\u001b[0m\u001b[0;34m.\u001b[0m\u001b[0mlinspace\u001b[0m\u001b[0;34m(\u001b[0m\u001b[0;36m0\u001b[0m\u001b[0;34m,\u001b[0m\u001b[0;36m1\u001b[0m\u001b[0;34m,\u001b[0m\u001b[0;36m2\u001b[0m\u001b[0;34m)\u001b[0m\u001b[0;34m)\u001b[0m\u001b[0;34m\u001b[0m\u001b[0;34m\u001b[0m\u001b[0m\n",
      "\u001b[0;31mNameError\u001b[0m: name 'x' is not defined"
     ]
    },
    {
     "data": {
      "image/png": "[encoded data removed]",
      "text/plain": [
       "<Figure size 864x216 with 7 Axes>"
      ]
     },
     "metadata": {
      "needs_background": "light"
     },
     "output_type": "display_data"
    }
   ],
   "source": [
    "fig, ax = plt.subplots(1, 7, figsize=(12, 3), gridspec_kw=dict(wspace=0.15))\n",
    "xo = np.array([[0.4300, 0.4300, 0.4200, 0.6400, 0.1700, 0.4400, 0.0900]])\n",
    "\n",
    "colors = ['#377eb8', '#ff7f00', '#4daf4a',\n",
    "                  '#f781bf', '#a65628', '#984ea3',\n",
    "                  '#999999', '#e41a1c', '#dede00']\n",
    "num_bins = 15\n",
    "data_labels = [r\"L4\", r\"L4SEP\", r\"L4SP\", r\"L4SS\", r\"L5IT\", r\"L5PT\", r\"L6\"]\n",
    "\n",
    "for ii in range(7):\n",
    "    plt.sca(ax[ii])\n",
    "    plt.hist(x[:, ii].numpy(), color=colors[6], bins=np.linspace(0, 1, num_bins), alpha=0.9)\n",
    "    plt.axvline(xo[0, ii], color=\"k\")\n",
    "    plt.xticks(np.linspace(0,1,2))\n",
    "    plt.xlim(0, 1)\n",
    "    ax[ii].spines[\"right\"].set_visible(False)\n",
    "    ax[ii].spines[\"top\"].set_visible(False)\n",
    "    ax[ii].spines[\"left\"].set_visible(False)\n",
    "    plt.yticks([])\n",
    "    plt.xlabel(data_labels[ii])\n",
    "plt.legend([\"measured\", \"simulated \\nfrom prior\"], bbox_to_anchor=(.11, .69), handlelength=1.0)"
   ]
  },
  {
   "cell_type": "code",
   "execution_count": null,
   "metadata": {},
   "outputs": [],
   "source": [
    "from sbi.utils import pairplot\n",
    "pairplot(x.numpy()[:10000,:], points=xo[0], upper=\"scatter\", figsize=(18, 12), \n",
    "         points_offdiag=dict(marker=\"+\"), \n",
    "         points_colors=[\"k\"]\n",
    "         \n",
    "        );"
   ]
  },
  {
   "cell_type": "code",
   "execution_count": null,
   "metadata": {},
   "outputs": [],
   "source": [
    "plt.savefig(\"prior_predictive.png\", dpi=300, bbox_inches='tight')"
   ]
  },
  {
   "cell_type": "markdown",
   "metadata": {},
   "source": [
    "## Inference"
   ]
  },
  {
   "cell_type": "code",
   "execution_count": 44,
   "metadata": {},
   "outputs": [],
   "source": [
    "with open(\"../results/npe_dso_linear_constrained_two_param_uniform_n100000.p\", \"rb\") as fh: \n",
    "    prior, de, *_ = pickle.load(fh).values()"
   ]
  },
  {
   "cell_type": "code",
   "execution_count": 45,
   "metadata": {},
   "outputs": [
    {
     "data": {
      "application/vnd.jupyter.widget-view+json": {
       "model_id": "a2ff691743f046098d37bc42288b1a19",
       "version_major": 2,
       "version_minor": 0
      },
      "text/plain": [
       "HBox(children=(FloatProgress(value=0.0, description='Drawing 10000 posterior samples', max=10000.0, style=Prog…"
      ]
     },
     "metadata": {},
     "output_type": "display_data"
    },
    {
     "name": "stdout",
     "output_type": "stream",
     "text": [
      "\n"
     ]
    }
   ],
   "source": [
    "from sbi.inference import SNPE\n",
    "from sbi.analysis import pairplot, sbc\n",
    "from sbi.simulators.simutils import simulate_in_batches\n",
    "posterior = SNPE(prior).build_posterior(de)\n",
    "samples = posterior.sample((10000,), x=xo)"
   ]
  },
  {
   "cell_type": "code",
   "execution_count": 47,
   "metadata": {},
   "outputs": [
    {
     "data": {
      "image/png": "[encoded data removed]",
      "text/plain": [
       "<Figure size 864x576 with 4 Axes>"
      ]
     },
     "metadata": {
      "needs_background": "light"
     },
     "output_type": "display_data"
    }
   ],
   "source": [
    "fig, ax = pairplot([prior.sample((10000,))], diag=\"kde\", upper=\"kde\", hist_diag=dict(bins=20), \n",
    "                   samples_colors=[\"gray\"], kde_diag=dict(bw_method=0.15),\n",
    "                   figsize=(12, 8));\n",
    "fig, ax = pairplot([samples], \n",
    "                   diag=\"kde\", \n",
    "#                    upper=\"kde\", \n",
    "                   hist_diag=dict(bins=20), \n",
    "                   kde_offdiag=dict(num_bins=200, bw_method=\"scott\"),\n",
    "                   kde_diag=dict(num_bins=200, bw_method=\"scott\"),\n",
    "                   fig=fig, axes=ax, \n",
    "                   limits=[[0, 3]*2]);"
   ]
  },
  {
   "cell_type": "code",
   "execution_count": 48,
   "metadata": {},
   "outputs": [
    {
     "data": {
      "text/plain": [
       "array([[ 1.        , -0.75382895],\n",
       "       [-0.75382895,  1.        ]])"
      ]
     },
     "execution_count": 48,
     "metadata": {},
     "output_type": "execute_result"
    }
   ],
   "source": [
    "np.corrcoef(samples, rowvar=False)"
   ]
  },
  {
   "cell_type": "code",
   "execution_count": 49,
   "metadata": {},
   "outputs": [],
   "source": [
    "from sbi.analysis import run_sbc, sbc_rank_plot, marginal_plot"
   ]
  },
  {
   "cell_type": "code",
   "execution_count": 50,
   "metadata": {},
   "outputs": [],
   "source": [
    "with open(\"../data/presimulated_dso_linear_constrained_two_param_uniform_n100000.p\", \"rb\") as fh:\n",
    "    _, thetas, xs = pickle.load(fh).values()\n",
    "    xs = xs.squeeze()"
   ]
  },
  {
   "cell_type": "code",
   "execution_count": 52,
   "metadata": {},
   "outputs": [
    {
     "data": {
      "application/vnd.jupyter.widget-view+json": {
       "model_id": "05edb7f2b1934954a960cb50424b6ae2",
       "version_major": 2,
       "version_minor": 0
      },
      "text/plain": [
       "HBox(children=(FloatProgress(value=0.0, description='Running 1000 simulations in 20 batches.', max=20.0, style…"
      ]
     },
     "metadata": {},
     "output_type": "display_data"
    },
    {
     "name": "stdout",
     "output_type": "stream",
     "text": [
      "\n"
     ]
    }
   ],
   "source": [
    "# posterior predictive samples\n",
    "simulator.rule = default_rule_linear_constrained_2p\n",
    "\n",
    "def batch_loop_simulator(theta):\n",
    "        \"\"\"Return a batch of simulations by looping over a batch of parameters.\"\"\"\n",
    "        assert theta.ndim > 1, \"Theta must have a batch dimension.\"\n",
    "        # Simulate in loop\n",
    "        xs = list(map(simulator, theta))\n",
    "        # Stack over batch to keep x_shape\n",
    "        return torch.stack(xs)\n",
    "\n",
    "\n",
    "xos = simulate_in_batches(batch_simulator, samples[:1000], sim_batch_size=50, num_workers=20)"
   ]
  },
  {
   "cell_type": "code",
   "execution_count": 53,
   "metadata": {},
   "outputs": [
    {
     "data": {
      "image/png": "[encoded data removed]",
      "text/plain": [
       "<Figure size 1296x360 with 7 Axes>"
      ]
     },
     "metadata": {
      "needs_background": "light"
     },
     "output_type": "display_data"
    }
   ],
   "source": [
    "marginal_plot([\n",
    "    xs[:1000],\n",
    "        xos.squeeze(), \n",
    "              ], \n",
    "    hist_diag=dict(bins=10, histtype=\"step\",),\n",
    "    samples_colors=[\"gray\", \"C0\"],\n",
    "    points_colors=[\"k\"],\n",
    "    labels=data_labels,\n",
    "    points=xo.squeeze(), figsize=(18, 5));"
   ]
  },
  {
   "cell_type": "code",
   "execution_count": 54,
   "metadata": {},
   "outputs": [
    {
     "data": {
      "application/vnd.jupyter.widget-view+json": {
       "model_id": "1026cc5c296448d4bf9dcc45358287fb",
       "version_major": 2,
       "version_minor": 0
      },
      "text/plain": [
       "HBox(children=(FloatProgress(value=0.0, description='Running 1000 sbc samples.', max=1000.0, style=ProgressSty…"
      ]
     },
     "metadata": {},
     "output_type": "display_data"
    },
    {
     "name": "stdout",
     "output_type": "stream",
     "text": [
      "\n"
     ]
    }
   ],
   "source": [
    "num_sbc_samples = 1000\n",
    "ranks, daps = run_sbc(thetas[:num_sbc_samples], xs[:num_sbc_samples,], posterior=posterior,\n",
    "                      num_workers=1,\n",
    "                      sbc_batch_size=1,\n",
    "                      reduce_fns=posterior.log_prob\n",
    "                     )"
   ]
  },
  {
   "cell_type": "code",
   "execution_count": 55,
   "metadata": {},
   "outputs": [
    {
     "data": {
      "image/png": "[encoded data removed]",
      "text/plain": [
       "<Figure size 432x288 with 1 Axes>"
      ]
     },
     "metadata": {
      "needs_background": "light"
     },
     "output_type": "display_data"
    }
   ],
   "source": [
    "plt.hist(ranks.numpy(), bins=20);"
   ]
  },
  {
   "cell_type": "code",
   "execution_count": 29,
   "metadata": {},
   "outputs": [
    {
     "data": {
      "text/plain": [
       "(<Figure size 288x360 with 1 Axes>,\n",
       " array([<AxesSubplot:xlabel='posterior rank dim 1'>], dtype=object))"
      ]
     },
     "execution_count": 29,
     "metadata": {},
     "output_type": "execute_result"
    },
    {
     "data": {
      "image/png": "[encoded data removed]",
      "text/plain": [
       "<Figure size 288x360 with 1 Axes>"
      ]
     },
     "metadata": {
      "needs_background": "light"
     },
     "output_type": "display_data"
    }
   ],
   "source": [
    "sbc_rank_plot(\n",
    "    ranks=ranks,\n",
    "    num_posterior_samples=1000,\n",
    "    plot_type=\"hist\",\n",
    "    num_bins=20,\n",
    "#     figsize=(10, 5),\n",
    ")"
   ]
  },
  {
   "cell_type": "code",
   "execution_count": null,
   "metadata": {},
   "outputs": [],
   "source": []
  }
 ],
 "metadata": {
  "kernelspec": {
   "display_name": "Python 3",
   "language": "python",
   "name": "python3"
  },
  "language_info": {
   "codemirror_mode": {
    "name": "ipython",
    "version": 3
   },
   "file_extension": ".py",
   "mimetype": "text/x-python",
   "name": "python",
   "nbconvert_exporter": "python",
   "pygments_lexer": "ipython3",
   "version": "3.7.7"
  }
 },
 "nbformat": 4,
 "nbformat_minor": 4
}
