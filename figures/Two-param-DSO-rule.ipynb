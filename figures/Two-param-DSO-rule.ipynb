{
 "cells": [
  {
   "cell_type": "code",
   "execution_count": 51,
   "metadata": {},
   "outputs": [],
   "source": [
    "import numpy as np\n",
    "import pickle\n",
    "\n",
    "from consbi.simulators import (\n",
    "    DistanceRuleSimulator, \n",
    "    RuleSimulator, \n",
    "    poisson_glm, \n",
    "    peters_rule_subcellular, \n",
    "    two_param_poisson_glm,\n",
    "    default_rule_linear, \n",
    "    two_param_rule_dependent,\n",
    "    dso_linear_two_param,\n",
    ")\n",
    "from consbi.simulators.poisson_glm import *\n",
    "from consbi.simulators.rule_simulator import *\n",
    "from consbi.simulators import default_rule\n",
    "from torch.distributions import MultivariateNormal\n",
    "\n",
    "from sbi.inference import prepare_for_sbi, simulate_for_sbi\n",
    "from sbi.utils import BoxUniform\n",
    "\n",
    "import torch\n",
    "import matplotlib.pyplot as plt\n",
    "plt.style.use('plotting_settings.mplstyle')\n",
    "%matplotlib inline"
   ]
  },
  {
   "cell_type": "code",
   "execution_count": 3,
   "metadata": {},
   "outputs": [],
   "source": [
    "# The prior will be Gaussian for most rules.\n",
    "num_dim = 3\n",
    "prior_scale = 3\n",
    "prior = BoxUniform(torch.zeros(num_dim), prior_scale * torch.ones(num_dim))\n",
    "xo = np.array([[0.4300, 0.4300, 0.4200, 0.6400, 0.1700, 0.4400, 0.0900]])"
   ]
  },
  {
   "cell_type": "markdown",
   "metadata": {},
   "source": [
    "## Poisson GLM\n",
    "\n",
    "The problem is reduced to just 10 neuron-pair-subvolume combinations withtout summary statistics, i.e., the simulator returns the raw synapse counts sampled from a Poisson distribution. Thus, it is fast and tractable. "
   ]
  },
  {
   "cell_type": "code",
   "execution_count": 4,
   "metadata": {},
   "outputs": [],
   "source": [
    "theta = prior.sample((10000,))\n",
    "x = poisson_glm_constrained(theta)"
   ]
  },
  {
   "cell_type": "code",
   "execution_count": 5,
   "metadata": {},
   "outputs": [
    {
     "data": {
      "text/plain": [
       "Text(0.5, 0, 'Counts')"
      ]
     },
     "execution_count": 5,
     "metadata": {},
     "output_type": "execute_result"
    },
    {
     "data": {
      "image/png": "[encoded data removed]",
      "text/plain": [
       "<Figure size 1296x360 with 1 Axes>"
      ]
     },
     "metadata": {
      "needs_background": "light"
     },
     "output_type": "display_data"
    }
   ],
   "source": [
    "plt.figure(figsize=(18, 5))\n",
    "plt.hist(x.numpy(), density=0)\n",
    "plt.xlabel(\"Counts\")\n",
    "# plt.legend([f\"neuron-pair-volume combi {ii}\" for ii in range(10)]);"
   ]
  },
  {
   "cell_type": "code",
   "execution_count": 14,
   "metadata": {},
   "outputs": [
    {
     "name": "stdout",
     "output_type": "stream",
     "text": [
      "Loading features, this may take a while...\n",
      "Time elapsed: 153.98921155929565\n"
     ]
    },
    {
     "name": "stderr",
     "output_type": "stream",
     "text": [
      "/home/janfb/qode/sbi-for-connectomics/consbi/simulators/rule_simulator.py:657: RuntimeWarning: invalid value encountered in log\n",
      "  log_features = np.log(features)\n"
     ]
    },
    {
     "name": "stdout",
     "output_type": "stream",
     "text": [
      "constraint 0, num rows (with overlap) 2168393\n",
      "constraint 1, num rows (with overlap) 687074\n",
      "constraint 2, num rows (with overlap) 308345\n",
      "constraint 3, num rows (with overlap) 674175\n",
      "constraint 4, num rows (with overlap) 559727\n",
      "constraint 5, num rows (with overlap) 587659\n",
      "constraint 6, num rows (with overlap) 1096435\n"
     ]
    }
   ],
   "source": [
    "path_to_model = \"../data/structural_model\"\n",
    "# set number of neuron pairs sampled from the connectome to mimick experimental settings, e.g., 50\n",
    "num_subsampling_pairs = 50\n",
    "simulator = RuleSimulator(path_to_model, \n",
    "                          rule=default_rule_linear, \n",
    "                          verbose=True, \n",
    "                          num_subsampling_pairs=num_subsampling_pairs,\n",
    "                          prelocate_postall_offset=True,\n",
    "                         )"
   ]
  },
  {
   "cell_type": "code",
   "execution_count": 100,
   "metadata": {},
   "outputs": [],
   "source": [
    "num_simulations = 1000\n",
    "num_dim = 2\n",
    "prior_scale = 3\n",
    "scaling = 0.6\n",
    "prior = BoxUniform((1-scaling) * torch.ones(num_dim), (1+scaling) * torch.ones(num_dim))\n",
    "\n",
    "simulator.rule = default_rule_constrained_two_param\n",
    "\n",
    "def batch_loop_simulator(theta):\n",
    "        \"\"\"Return a batch of simulations by looping over a batch of parameters.\"\"\"\n",
    "        assert theta.ndim > 1, \"Theta must have a batch dimension.\"\n",
    "        # Simulate in loop\n",
    "        xs = list(map(simulator, theta))\n",
    "        # Stack over batch to keep x_shape\n",
    "        return torch.stack(xs)\n",
    "\n",
    "# wrap the simulator to handle batches of parameters\n",
    "batch_simulator, prior = prepare_for_sbi(batch_loop_simulator, prior)"
   ]
  },
  {
   "cell_type": "code",
   "execution_count": 101,
   "metadata": {},
   "outputs": [
    {
     "data": {
      "application/vnd.jupyter.widget-view+json": {
       "model_id": "033b19a588a7464e9629d912f9d73b75",
       "version_major": 2,
       "version_minor": 0
      },
      "text/plain": [
       "HBox(children=(FloatProgress(value=0.0, description='Running 1000 simulations in 20 batches.', max=20.0, style…"
      ]
     },
     "metadata": {},
     "output_type": "display_data"
    },
    {
     "name": "stdout",
     "output_type": "stream",
     "text": [
      "\n"
     ]
    }
   ],
   "source": [
    "theta, x = simulate_for_sbi(batch_simulator, prior, num_simulations=num_simulations, \n",
    "                            num_workers=20, \n",
    "                            simulation_batch_size=50)\n"
   ]
  },
  {
   "cell_type": "code",
   "execution_count": 102,
   "metadata": {},
   "outputs": [
    {
     "data": {
      "text/plain": [
       "<matplotlib.legend.Legend at 0x7f34575f5e50>"
      ]
     },
     "execution_count": 102,
     "metadata": {},
     "output_type": "execute_result"
    },
    {
     "data": {
      "image/png": "[encoded data removed]",
      "text/plain": [
       "<Figure size 864x216 with 7 Axes>"
      ]
     },
     "metadata": {
      "needs_background": "light"
     },
     "output_type": "display_data"
    }
   ],
   "source": [
    "fig, ax = plt.subplots(1, 7, figsize=(12, 3), gridspec_kw=dict(wspace=0.15))\n",
    "xo = np.array([[0.4300, 0.4300, 0.4200, 0.6400, 0.1700, 0.4400, 0.0900]])\n",
    "x = x.squeeze()\n",
    "colors = ['#377eb8', '#ff7f00', '#4daf4a',\n",
    "                  '#f781bf', '#a65628', '#984ea3',\n",
    "                  '#999999', '#e41a1c', '#dede00']\n",
    "num_bins = 15\n",
    "data_labels = [r\"L4\", r\"L4SEP\", r\"L4SP\", r\"L4SS\", r\"L5IT\", r\"L5PT\", r\"L6\"]\n",
    "\n",
    "for ii in range(7):\n",
    "    plt.sca(ax[ii])\n",
    "    plt.hist(x[:, ii].numpy(), color=colors[6], bins=np.linspace(0, 1, num_bins), alpha=0.9)\n",
    "    plt.axvline(xo[0, ii], color=\"k\")\n",
    "    plt.xticks(np.linspace(0,1,2))\n",
    "    plt.xlim(0, 1)\n",
    "    ax[ii].spines[\"right\"].set_visible(False)\n",
    "    ax[ii].spines[\"top\"].set_visible(False)\n",
    "    ax[ii].spines[\"left\"].set_visible(False)\n",
    "    plt.yticks([])\n",
    "    plt.xlabel(data_labels[ii])\n",
    "plt.legend([\"measured\", \"simulated \\nfrom prior\"], bbox_to_anchor=(.11, .69), handlelength=1.0)"
   ]
  },
  {
   "cell_type": "code",
   "execution_count": null,
   "metadata": {},
   "outputs": [],
   "source": [
    "# save prior predictive samples\n",
    "with open(f\"../results/prior_predictive_samples_dso_two_param_N{num_simulations}.p\", \"wb\") as fh: \n",
    "    pickle.dump(dict(theta=theta, x=x), fh)"
   ]
  },
  {
   "cell_type": "code",
   "execution_count": null,
   "metadata": {},
   "outputs": [],
   "source": [
    "from sbi.utils import pairplot\n",
    "pairplot(x.numpy()[:10000,:], points=xo[0], upper=\"scatter\", figsize=(18, 12), \n",
    "         points_offdiag=dict(marker=\"+\"), \n",
    "         points_colors=[\"k\"]\n",
    "         \n",
    "        );"
   ]
  },
  {
   "cell_type": "code",
   "execution_count": null,
   "metadata": {},
   "outputs": [],
   "source": [
    "plt.savefig(\"prior_predictive.png\", dpi=300, bbox_inches='tight')"
   ]
  },
  {
   "cell_type": "markdown",
   "metadata": {},
   "source": [
    "## Inference"
   ]
  },
  {
   "cell_type": "code",
   "execution_count": 56,
   "metadata": {},
   "outputs": [],
   "source": [
    "with open(\"../results/npe_dso_linear_constrained_one_param_uniform_n100000.p\", \"rb\") as fh: \n",
    "    prior, de, *_ = pickle.load(fh).values()"
   ]
  },
  {
   "cell_type": "code",
   "execution_count": 57,
   "metadata": {},
   "outputs": [
    {
     "data": {
      "application/vnd.jupyter.widget-view+json": {
       "model_id": "79b592e2d2004593a74b6a1be53f8f7a",
       "version_major": 2,
       "version_minor": 0
      },
      "text/plain": [
       "HBox(children=(FloatProgress(value=0.0, description='Drawing 10000 posterior samples', max=10000.0, style=Prog…"
      ]
     },
     "metadata": {},
     "output_type": "display_data"
    },
    {
     "name": "stdout",
     "output_type": "stream",
     "text": [
      "\n"
     ]
    }
   ],
   "source": [
    "from sbi.inference import SNPE\n",
    "from sbi.analysis import pairplot, sbc\n",
    "from sbi.simulators.simutils import simulate_in_batches\n",
    "posterior = SNPE(prior).build_posterior(de)\n",
    "samples = posterior.sample((10000,), x=xo)"
   ]
  },
  {
   "cell_type": "code",
   "execution_count": 58,
   "metadata": {},
   "outputs": [
    {
     "data": {
      "image/png": "[encoded data removed]",
      "text/plain": [
       "<Figure size 864x576 with 1 Axes>"
      ]
     },
     "metadata": {
      "needs_background": "light"
     },
     "output_type": "display_data"
    }
   ],
   "source": [
    "fig, ax = pairplot([prior.sample((10000,))], diag=\"kde\", upper=\"kde\", hist_diag=dict(bins=20), \n",
    "                   samples_colors=[\"gray\"], kde_diag=dict(bw_method=0.15),\n",
    "                   figsize=(12, 8));\n",
    "fig, ax = pairplot([samples], \n",
    "                   diag=\"kde\", \n",
    "#                    upper=\"kde\", \n",
    "                   hist_diag=dict(bins=20), \n",
    "                   kde_offdiag=dict(num_bins=200, bw_method=\"scott\"),\n",
    "                   kde_diag=dict(num_bins=200, bw_method=\"scott\"),\n",
    "                   fig=fig, axes=ax, \n",
    "                   limits=[[0, 3]*2]);"
   ]
  },
  {
   "cell_type": "code",
   "execution_count": 59,
   "metadata": {},
   "outputs": [
    {
     "data": {
      "text/plain": [
       "1.0"
      ]
     },
     "execution_count": 59,
     "metadata": {},
     "output_type": "execute_result"
    }
   ],
   "source": [
    "np.corrcoef(samples, rowvar=False)"
   ]
  },
  {
   "cell_type": "code",
   "execution_count": 60,
   "metadata": {},
   "outputs": [],
   "source": [
    "from sbi.analysis import run_sbc, sbc_rank_plot, marginal_plot"
   ]
  },
  {
   "cell_type": "code",
   "execution_count": 69,
   "metadata": {},
   "outputs": [],
   "source": [
    "with open(\"../data/presimulated_dso_linear_constrained_one_param_uniform_n100000.p\", \"rb\") as fh:\n",
    "    _, thetas, xs = pickle.load(fh).values()\n",
    "    xs = xs.squeeze()"
   ]
  },
  {
   "cell_type": "code",
   "execution_count": 66,
   "metadata": {},
   "outputs": [
    {
     "data": {
      "text/plain": [
       "BoxUniform(Uniform(low: tensor([0.]), high: tensor([3.])), 1)"
      ]
     },
     "execution_count": 66,
     "metadata": {},
     "output_type": "execute_result"
    }
   ],
   "source": [
    "prior"
   ]
  },
  {
   "cell_type": "code",
   "execution_count": 62,
   "metadata": {},
   "outputs": [
    {
     "data": {
      "application/vnd.jupyter.widget-view+json": {
       "model_id": "8cd3fa16bd74414083351f82cc8ca51b",
       "version_major": 2,
       "version_minor": 0
      },
      "text/plain": [
       "HBox(children=(FloatProgress(value=0.0, description='Running 1000 simulations in 20 batches.', max=20.0, style…"
      ]
     },
     "metadata": {},
     "output_type": "display_data"
    },
    {
     "name": "stdout",
     "output_type": "stream",
     "text": [
      "\n"
     ]
    }
   ],
   "source": [
    "# posterior predictive samples\n",
    "simulator.rule = one_param_rule_linear_constrained\n",
    "\n",
    "def batch_loop_simulator(theta):\n",
    "        \"\"\"Return a batch of simulations by looping over a batch of parameters.\"\"\"\n",
    "        assert theta.ndim > 1, \"Theta must have a batch dimension.\"\n",
    "        # Simulate in loop\n",
    "        xs = list(map(simulator, theta))\n",
    "        # Stack over batch to keep x_shape\n",
    "        return torch.stack(xs)\n",
    "\n",
    "\n",
    "xos = simulate_in_batches(batch_simulator, samples[:1000], sim_batch_size=50, num_workers=20)"
   ]
  },
  {
   "cell_type": "code",
   "execution_count": 74,
   "metadata": {},
   "outputs": [
    {
     "data": {
      "image/png": "[encoded data removed]",
      "text/plain": [
       "<Figure size 1296x360 with 7 Axes>"
      ]
     },
     "metadata": {
      "needs_background": "light"
     },
     "output_type": "display_data"
    }
   ],
   "source": [
    "marginal_plot([\n",
    "        xs[:1000],\n",
    "        xos.squeeze(), \n",
    "              ], \n",
    "    hist_diag=dict(bins=10, histtype=\"step\",),\n",
    "    samples_colors=[\"gray\", \"C0\"],\n",
    "    points_colors=[\"k\"],\n",
    "    labels=data_labels,\n",
    "    limits=[[0, 1]*7],\n",
    "    points=xo.squeeze(), figsize=(18, 5));"
   ]
  },
  {
   "cell_type": "code",
   "execution_count": 64,
   "metadata": {},
   "outputs": [
    {
     "data": {
      "application/vnd.jupyter.widget-view+json": {
       "model_id": "72a14cff769542bd85e7785785e6736a",
       "version_major": 2,
       "version_minor": 0
      },
      "text/plain": [
       "HBox(children=(FloatProgress(value=0.0, description='Running 1000 sbc samples.', max=1000.0, style=ProgressSty…"
      ]
     },
     "metadata": {},
     "output_type": "display_data"
    },
    {
     "name": "stdout",
     "output_type": "stream",
     "text": [
      "\n"
     ]
    }
   ],
   "source": [
    "num_sbc_samples = 1000\n",
    "ranks, daps = run_sbc(thetas[:num_sbc_samples], xs[:num_sbc_samples,], posterior=posterior,\n",
    "                      num_workers=1,\n",
    "                      sbc_batch_size=1,\n",
    "                      reduce_fns=posterior.log_prob\n",
    "                     )"
   ]
  },
  {
   "cell_type": "code",
   "execution_count": 65,
   "metadata": {},
   "outputs": [
    {
     "data": {
      "image/png": "[encoded data removed]",
      "text/plain": [
       "<Figure size 432x288 with 1 Axes>"
      ]
     },
     "metadata": {
      "needs_background": "light"
     },
     "output_type": "display_data"
    }
   ],
   "source": [
    "plt.hist(ranks.numpy(), bins=20);"
   ]
  },
  {
   "cell_type": "code",
   "execution_count": 67,
   "metadata": {},
   "outputs": [
    {
     "data": {
      "text/plain": [
       "(<Figure size 288x360 with 1 Axes>,\n",
       " array([<AxesSubplot:xlabel='posterior rank dim 1'>], dtype=object))"
      ]
     },
     "execution_count": 67,
     "metadata": {},
     "output_type": "execute_result"
    },
    {
     "data": {
      "image/png": "[encoded data removed]",
      "text/plain": [
       "<Figure size 288x360 with 1 Axes>"
      ]
     },
     "metadata": {
      "needs_background": "light"
     },
     "output_type": "display_data"
    }
   ],
   "source": [
    "sbc_rank_plot(\n",
    "    ranks=ranks,\n",
    "    num_posterior_samples=1000,\n",
    "    plot_type=\"hist\",\n",
    "    num_bins=20,\n",
    "#     figsize=(10, 5),\n",
    ")"
   ]
  },
  {
   "cell_type": "code",
   "execution_count": null,
   "metadata": {},
   "outputs": [],
   "source": []
  }
 ],
 "metadata": {
  "kernelspec": {
   "display_name": "Python 3",
   "language": "python",
   "name": "python3"
  },
  "language_info": {
   "codemirror_mode": {
    "name": "ipython",
    "version": 3
   },
   "file_extension": ".py",
   "mimetype": "text/x-python",
   "name": "python",
   "nbconvert_exporter": "python",
   "pygments_lexer": "ipython3",
   "version": "3.7.7"
  }
 },
 "nbformat": 4,
 "nbformat_minor": 4
}
