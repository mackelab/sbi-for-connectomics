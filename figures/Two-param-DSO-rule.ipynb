{
 "cells": [
  {
   "cell_type": "code",
   "execution_count": 1,
   "metadata": {},
   "outputs": [],
   "source": [
    "import numpy as np\n",
    "import pickle\n",
    "\n",
    "from consbi.simulators import (\n",
    "    DistanceRuleSimulator, \n",
    "    RuleSimulator, \n",
    "    poisson_glm, \n",
    "    peters_rule_subcellular, \n",
    "    two_param_poisson_glm,\n",
    "    default_rule_linear, \n",
    "    two_param_rule_dependent,\n",
    "    dso_linear_two_param,\n",
    ")\n",
    "from consbi.simulators import default_rule\n",
    "from torch.distributions import MultivariateNormal\n",
    "\n",
    "from sbi.inference import prepare_for_sbi, simulate_for_sbi\n",
    "from sbi.utils import BoxUniform\n",
    "\n",
    "import torch\n",
    "import matplotlib.pyplot as plt\n",
    "plt.style.use('plotting_settings.mplstyle')\n",
    "%matplotlib inline"
   ]
  },
  {
   "cell_type": "code",
   "execution_count": 2,
   "metadata": {},
   "outputs": [],
   "source": [
    "# The prior will be Gaussian for most rules.\n",
    "num_dim = 2\n",
    "prior_scale = 3\n",
    "prior = BoxUniform(torch.zeros(num_dim), prior_scale * torch.ones(num_dim))"
   ]
  },
  {
   "cell_type": "markdown",
   "metadata": {},
   "source": [
    "## Poisson GLM\n",
    "\n",
    "The problem is reduced to just 10 neuron-pair-subvolume combinations withtout summary statistics, i.e., the simulator returns the raw synapse counts sampled from a Poisson distribution. Thus, it is fast and tractable. "
   ]
  },
  {
   "cell_type": "code",
   "execution_count": 3,
   "metadata": {},
   "outputs": [],
   "source": [
    "theta = prior.sample((10000,))\n",
    "x = two_param_poisson_glm(theta, offset=prior_scale)"
   ]
  },
  {
   "cell_type": "code",
   "execution_count": 4,
   "metadata": {},
   "outputs": [
    {
     "data": {
      "text/plain": [
       "Text(0.5, 0, 'Counts')"
      ]
     },
     "execution_count": 4,
     "metadata": {},
     "output_type": "execute_result"
    },
    {
     "data": {
      "image/png": "[encoded data removed]",
      "text/plain": [
       "<Figure size 1296x360 with 1 Axes>"
      ]
     },
     "metadata": {
      "needs_background": "light"
     },
     "output_type": "display_data"
    }
   ],
   "source": [
    "plt.figure(figsize=(18, 5))\n",
    "plt.hist(x.numpy(), density=1)\n",
    "plt.xlabel(\"Counts\")\n",
    "# plt.legend([f\"neuron-pair-volume combi {ii}\" for ii in range(10)]);"
   ]
  },
  {
   "cell_type": "code",
   "execution_count": 5,
   "metadata": {},
   "outputs": [
    {
     "name": "stdout",
     "output_type": "stream",
     "text": [
      "Loading features, this may take a while...\n",
      "Time elapsed: 158.57700419425964\n"
     ]
    },
    {
     "name": "stderr",
     "output_type": "stream",
     "text": [
      "/home/janfb/qode/sbi-for-connectomics/consbi/simulators/rule_simulator.py:657: RuntimeWarning: invalid value encountered in log\n",
      "  log_features = np.log(features)\n"
     ]
    },
    {
     "name": "stdout",
     "output_type": "stream",
     "text": [
      "constraint 0, num rows (with overlap) 2168393\n",
      "constraint 1, num rows (with overlap) 687074\n",
      "constraint 2, num rows (with overlap) 308345\n",
      "constraint 3, num rows (with overlap) 674175\n",
      "constraint 4, num rows (with overlap) 559727\n",
      "constraint 5, num rows (with overlap) 587659\n",
      "constraint 6, num rows (with overlap) 1096435\n"
     ]
    }
   ],
   "source": [
    "path_to_model = \"../data/structural_model\"\n",
    "# set number of neuron pairs sampled from the connectome to mimick experimental settings, e.g., 50\n",
    "num_subsampling_pairs = 50\n",
    "simulator = RuleSimulator(path_to_model, \n",
    "                          rule=default_rule_linear, \n",
    "                          verbose=True, \n",
    "                          num_subsampling_pairs=num_subsampling_pairs)"
   ]
  },
  {
   "cell_type": "code",
   "execution_count": 23,
   "metadata": {},
   "outputs": [],
   "source": [
    "num_simulations = 100000\n",
    "num_dim = 2\n",
    "prior_scale = 3\n",
    "prior = BoxUniform(torch.zeros(num_dim), prior_scale * torch.ones(num_dim))\n",
    "from functools import partial\n",
    "\n",
    "simulator.rule = two_param_rule_dependent\n",
    "\n",
    "def batch_loop_simulator(theta):\n",
    "        \"\"\"Return a batch of simulations by looping over a batch of parameters.\"\"\"\n",
    "        assert theta.ndim > 1, \"Theta must have a batch dimension.\"\n",
    "        # Simulate in loop\n",
    "        xs = list(map(simulator, theta))\n",
    "        # Stack over batch to keep x_shape\n",
    "        return torch.stack(xs)\n",
    "\n",
    "# wrap the simulator to handle batches of parameters\n",
    "batch_simulator, prior = prepare_for_sbi(batch_loop_simulator, prior)"
   ]
  },
  {
   "cell_type": "code",
   "execution_count": null,
   "metadata": {},
   "outputs": [
    {
     "data": {
      "application/vnd.jupyter.widget-view+json": {
       "model_id": "bc5376b15a3b40af9bffbfdaf8de8318",
       "version_major": 2,
       "version_minor": 0
      },
      "text/plain": [
       "HBox(children=(FloatProgress(value=0.0, description='Running 100000 simulations in 1000 batches.', max=1000.0,…"
      ]
     },
     "metadata": {},
     "output_type": "display_data"
    }
   ],
   "source": [
    "theta, x = simulate_for_sbi(batch_simulator, prior, num_simulations=num_simulations, \n",
    "                            num_workers=24, \n",
    "                            simulation_batch_size=100)\n"
   ]
  },
  {
   "cell_type": "code",
   "execution_count": null,
   "metadata": {},
   "outputs": [],
   "source": [
    "# save prior predictive samples\n",
    "with open(f\"../results/prior_predictive_samples_dso_two_param_N{num_simulations}.p\", \"wb\") as fh: \n",
    "    pickle.dump(dict(theta=theta, x=x), fh)"
   ]
  },
  {
   "cell_type": "code",
   "execution_count": null,
   "metadata": {},
   "outputs": [],
   "source": [
    "x = x.squeeze()"
   ]
  },
  {
   "cell_type": "code",
   "execution_count": null,
   "metadata": {},
   "outputs": [],
   "source": [
    "fig, ax = plt.subplots(1, 7, figsize=(12, 3), gridspec_kw=dict(wspace=0.15))\n",
    "xo = np.array([[0.4300, 0.4300, 0.4200, 0.6400, 0.1700, 0.4400, 0.0900]])\n",
    "\n",
    "colors = ['#377eb8', '#ff7f00', '#4daf4a',\n",
    "                  '#f781bf', '#a65628', '#984ea3',\n",
    "                  '#999999', '#e41a1c', '#dede00']\n",
    "num_bins = 15\n",
    "data_labels = [r\"L4\", r\"L4SEP\", r\"L4SP\", r\"L4SS\", r\"L5IT\", r\"L5PT\", r\"L6\"]\n",
    "\n",
    "for ii in range(7):\n",
    "    plt.sca(ax[ii])\n",
    "    plt.hist(x[:, ii].numpy(), color=colors[6], bins=np.linspace(0, 1, num_bins), alpha=0.9)\n",
    "    plt.axvline(xo[0, ii], color=\"k\")\n",
    "    plt.xticks(np.linspace(0,1,2))\n",
    "    plt.xlim(0, 1)\n",
    "    ax[ii].spines[\"right\"].set_visible(False)\n",
    "    ax[ii].spines[\"top\"].set_visible(False)\n",
    "    ax[ii].spines[\"left\"].set_visible(False)\n",
    "    plt.yticks([])\n",
    "    plt.xlabel(data_labels[ii])\n",
    "plt.legend([\"measured\", \"simulated \\nfrom prior\"], bbox_to_anchor=(.11, .69), handlelength=1.0)"
   ]
  },
  {
   "cell_type": "code",
   "execution_count": null,
   "metadata": {},
   "outputs": [],
   "source": [
    "from sbi.utils import pairplot\n",
    "pairplot(x.numpy()[:10000,:], points=xo[0], upper=\"scatter\", figsize=(18, 12), \n",
    "         points_offdiag=dict(marker=\"+\"), \n",
    "         points_colors=[\"k\"]\n",
    "         \n",
    "        );"
   ]
  },
  {
   "cell_type": "code",
   "execution_count": null,
   "metadata": {},
   "outputs": [],
   "source": [
    "plt.savefig(\"prior_predictive.png\", dpi=300, bbox_inches='tight')"
   ]
  }
 ],
 "metadata": {
  "kernelspec": {
   "display_name": "Python 3",
   "language": "python",
   "name": "python3"
  },
  "language_info": {
   "codemirror_mode": {
    "name": "ipython",
    "version": 3
   },
   "file_extension": ".py",
   "mimetype": "text/x-python",
   "name": "python",
   "nbconvert_exporter": "python",
   "pygments_lexer": "ipython3",
   "version": "3.7.7"
  }
 },
 "nbformat": 4,
 "nbformat_minor": 4
}
